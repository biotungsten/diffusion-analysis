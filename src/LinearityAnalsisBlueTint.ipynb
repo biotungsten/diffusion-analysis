{
 "cells": [
  {
   "cell_type": "code",
   "execution_count": 1,
   "metadata": {},
   "outputs": [],
   "source": [
    "import numpy as np\n",
    "import rawpy\n",
    "import matplotlib.pyplot as plt\n",
    "import csv\n",
    "from scipy.stats import linregress"
   ]
  },
  {
   "cell_type": "code",
   "execution_count": 25,
   "metadata": {},
   "outputs": [],
   "source": [
    "images = \"/Users/David_Sauer/Documents/Biophysik/diffusion-analysis/experiments/tinte-blau-april/pictures/\"\n",
    "areas = images + \"areas.csv\"\n",
    "bit_depth = 2**12\n",
    "dilutions = [500,750,1000,2000,4000,8000]\n",
    "color_desc = {0: \"R\", 1: \"G\", 2: \"B\", 3: \"G\"} #read out manually \n",
    "raw_pattern = [[0,1], [3,2]]\n",
    "#FIXME: Use relative path instead"
   ]
  },
  {
   "cell_type": "code",
   "execution_count": 100,
   "metadata": {},
   "outputs": [],
   "source": [
    "def singleColorArray(target_color, arr, posx, posy):\n",
    "    if target_color == None:\n",
    "        return arr.mean()\n",
    "    new_arr = []\n",
    "    for index_r, row in enumerate(arr):\n",
    "        for index_c, col in enumerate(row):\n",
    "            r_ind = index_r + posy\n",
    "            c_ind = index_c + posx\n",
    "            color = None \n",
    "            if r_ind % 2 == 0:\n",
    "                if c_ind % 2 == 0:\n",
    "                    color = 0\n",
    "                else:\n",
    "                    color = 1\n",
    "            else:\n",
    "                if c_ind % 2 == 0:\n",
    "                    color = 3\n",
    "                else:\n",
    "                    color = 2\n",
    "            if color_desc[color] == target_color:\n",
    "                new_arr.append(col)\n",
    "            else:\n",
    "                pass\n",
    "    return np.array(new_arr)\n",
    "\n",
    "def read(dilution, x, y, xlen, ylen):\n",
    "    y = y + y%2\n",
    "    x = x + x%2\n",
    "    xlen = xlen + xlen%2\n",
    "    ylen = ylen + ylen%2\n",
    "    img_data = None\n",
    "    with rawpy.imread(images+str(dilution)+\".DNG\") as raw:\n",
    "        img_data = raw.raw_image.copy()\n",
    "        black = np.array(raw.black_level_per_channel).mean()\n",
    "    ret = img_data[y:y+ylen,x:x+xlen]\n",
    "    return (ret, black)\n",
    "\n",
    "def get_boundaries(dilution):\n",
    "    with open(areas) as csv_file:\n",
    "        csv_reader = csv.reader(csv_file, delimiter=',')\n",
    "        for row in csv_reader:\n",
    "            if row[0] == str(dilution):\n",
    "                if row[1] == \"NA\":\n",
    "                    raise RuntimeError(\"Areas not defined.\")\n",
    "                return [int(n) for n in row[1:]]\n",
    "            \n",
    "def _intensity(dilution, boundaries, color):\n",
    "    x, y, xlen, ylen, xctrl, yctrl, xlenctrl, ylenctrl = boundaries\n",
    "    arr_a, black_a = read(dilution, x, y, xlen, ylen)\n",
    "    arr_c, black_c = read(dilution, xctrl, yctrl, xlenctrl, ylenctrl)\n",
    "    a_val = bit_depth-(singleColorArray(color, arr_a, x, y).mean() - black_a)\n",
    "    c_val = bit_depth-(singleColorArray(color, arr_c, xctrl, yctrl).mean() - black_c)\n",
    "    print(a_val, c_val)\n",
    "    return (np.log10(a_val/c_val), dilution)\n",
    "\n",
    "def c_intensity(dilution, color):\n",
    "    return _intensity(dilution, get_boundaries(dilution), color)[0]\n",
    "\n",
    "def intensity(dilution):\n",
    "    #FIXME: Improve performance\n",
    "    return c_intensity(dilution, None)"
   ]
  },
  {
   "cell_type": "code",
   "execution_count": 71,
   "metadata": {},
   "outputs": [],
   "source": [
    "intensities = []\n",
    "concentrations = []\n",
    "\n",
    "for dil in dilutions:\n",
    "    intensities.append(intensity(dil))\n",
    "    concentrations.append(1/dil)\n",
    "\n",
    "plt.plot(concentrations[1:], intensities[1:])\n",
    "slope, intercept, r_value, p_value, std_err = linregress(concentrations[1:], intensities[1:])\n",
    "print(\"R: {}, p {}\".format(r_value, p_value))"
   ]
  },
  {
   "cell_type": "code",
   "execution_count": 103,
   "metadata": {},
   "outputs": [
    {
     "name": "stdout",
     "output_type": "stream",
     "text": [
      "R\n",
      "500\n",
      "4089.5467 3376.069083820663\n",
      "750\n",
      "4052.7285666666667 3356.1141333333335\n",
      "1000\n",
      "3923.36112 3603.242048\n",
      "2000\n",
      "3717.378311111111 3604.5660888888888\n",
      "4000\n",
      "3630.8944 3589.597333333333\n",
      "8000\n",
      "3604.318690909091 3642.786488888889\n",
      "R: 0.9670050740860721, p 0.007158852676609957 \n",
      "\n",
      "\n",
      "G\n",
      "500\n",
      "4083.2375899999997 3192.4240545808966\n",
      "750\n",
      "4021.6620416666665 3168.041688888889\n",
      "1000\n",
      "3860.58324 3470.708896\n",
      "2000\n",
      "3613.853448888889 3468.380311111111\n",
      "4000\n",
      "3514.6149875 3457.4725866666668\n",
      "8000\n",
      "3482.336031168831 3526.6965333333333\n",
      "R: 0.9651337786695088, p 0.0077742183365310785 \n",
      "\n",
      "\n",
      "B\n",
      "500\n",
      "4089.31476 3801.0407797270955\n",
      "750\n",
      "4011.60415 3805.234844444444\n",
      "1000\n",
      "3956.64072 3890.808656\n",
      "2000\n",
      "3893.839946666667 3892.7949777777776\n",
      "4000\n",
      "3885.067225 3889.0692266666665\n",
      "8000\n",
      "3885.3898805194804 3912.223822222222\n",
      "R: 0.936243630141826, p 0.019139108867911706 \n",
      "\n",
      "\n"
     ]
    },
    {
     "name": "stderr",
     "output_type": "stream",
     "text": [
      "/Users/David_Sauer/anaconda3/lib/python3.7/site-packages/IPython/core/pylabtools.py:132: MatplotlibDeprecationWarning: Support for uppercase single-letter colors is deprecated since Matplotlib 3.1 and will be removed in 3.3; please use lowercase instead.\n",
      "  fig.canvas.print_figure(bytes_io, **kw)\n"
     ]
    },
    {
     "data": {
      "image/png": "[encoded data removed]",
      "text/plain": [
       "<Figure size 432x288 with 1 Axes>"
      ]
     },
     "metadata": {
      "needs_background": "light"
     },
     "output_type": "display_data"
    }
   ],
   "source": [
    "for col in [\"R\",\"G\",\"B\"]:\n",
    "    print(col)\n",
    "    intensities = []\n",
    "    concentrations = []\n",
    "\n",
    "    for dil in dilutions:\n",
    "        print(dil)\n",
    "        intensities.append(c_intensity(dil, col))\n",
    "        concentrations.append(1/dil)\n",
    "    plt.plot(concentrations[1:], intensities[1:], color=col)\n",
    "    #FIXME: Before plotting convert to lowercase color letter\n",
    "    slope, intercept, r_value, p_value, std_err = linregress(concentrations[1:], intensities[1:])\n",
    "    print(\"R: {}, p {} \\n\\n\".format(r_value, p_value))"
   ]
  }
 ],
 "metadata": {
  "kernelspec": {
   "display_name": "Python 3.7.3 64-bit ('base': conda)",
   "language": "python",
   "name": "python37364bitbasecondac955cbb0583048f697af610519768e7d"
  },
  "language_info": {
   "codemirror_mode": {
    "name": "ipython",
    "version": 3
   },
   "file_extension": ".py",
   "mimetype": "text/x-python",
   "name": "python",
   "nbconvert_exporter": "python",
   "pygments_lexer": "ipython3",
   "version": "3.7.3"
  }
 },
 "nbformat": 4,
 "nbformat_minor": 4
}
