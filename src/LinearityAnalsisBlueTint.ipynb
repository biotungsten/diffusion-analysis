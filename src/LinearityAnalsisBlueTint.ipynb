{
 "cells": [
  {
   "cell_type": "code",
   "execution_count": 1,
   "metadata": {},
   "outputs": [],
   "source": [
    "import numpy as np\n",
    "import rawpy\n",
    "import matplotlib.pyplot as plt\n",
    "import csv\n",
    "from scipy.stats import linregress"
   ]
  },
  {
   "cell_type": "code",
   "execution_count": 25,
   "metadata": {},
   "outputs": [],
   "source": [
    "images = \"/Users/David_Sauer/Documents/Biophysik/diffusion-analysis/experiments/tinte-blau-april/pictures/\"\n",
    "areas = images + \"areas.csv\"\n",
    "bit_depth = 2**12\n",
    "dilutions = [500,750,1000,2000,4000,8000]\n",
    "color_desc = {0: \"R\", 1: \"G\", 2: \"B\", 3: \"G\"} #read out manually \n",
    "raw_pattern = [[0,1], [3,2]]\n",
    "#FIXME: Use relative path instead"
   ]
  },
  {
   "cell_type": "code",
   "execution_count": 108,
   "metadata": {},
   "outputs": [],
   "source": [
    "def singleColorArray(target_color, arr, posx, posy):\n",
    "    if target_color == None:\n",
    "        return arr.mean()\n",
    "    new_arr = []\n",
    "    for index_r, row in enumerate(arr):\n",
    "        for index_c, col in enumerate(row):\n",
    "            r_ind = index_r + posy\n",
    "            c_ind = index_c + posx\n",
    "            color = None \n",
    "            if r_ind % 2 == 0:\n",
    "                if c_ind % 2 == 0:\n",
    "                    color = 0\n",
    "                else:\n",
    "                    color = 1\n",
    "            else:\n",
    "                if c_ind % 2 == 0:\n",
    "                    color = 3\n",
    "                else:\n",
    "                    color = 2\n",
    "            if color_desc[color] == target_color:\n",
    "                new_arr.append(col)\n",
    "            else:\n",
    "                pass\n",
    "    return np.array(new_arr)\n",
    "\n",
    "def read(dilution, x, y, xlen, ylen):\n",
    "    y = y + y%2\n",
    "    x = x + x%2\n",
    "    xlen = xlen + xlen%2\n",
    "    ylen = ylen + ylen%2\n",
    "    img_data = None\n",
    "    with rawpy.imread(images+str(dilution)+\".DNG\") as raw:\n",
    "        img_data = raw.raw_image.copy()\n",
    "        black = np.array(raw.black_level_per_channel).mean()\n",
    "    ret = img_data[y:y+ylen,x:x+xlen]\n",
    "    return (ret, black)\n",
    "\n",
    "def get_boundaries(dilution):\n",
    "    with open(areas) as csv_file:\n",
    "        csv_reader = csv.reader(csv_file, delimiter=',')\n",
    "        for row in csv_reader:\n",
    "            if row[0] == str(dilution):\n",
    "                if row[1] == \"NA\":\n",
    "                    raise RuntimeError(\"Areas not defined.\")\n",
    "                return [int(n) for n in row[1:]]\n",
    "            \n",
    "def _intensity(dilution, boundaries, color):\n",
    "    x, y, xlen, ylen, xctrl, yctrl, xlenctrl, ylenctrl = boundaries\n",
    "    arr_a, black_a = read(dilution, x, y, xlen, ylen)\n",
    "    arr_c, black_c = read(dilution, xctrl, yctrl, xlenctrl, ylenctrl)\n",
    "    a_val = (singleColorArray(color, arr_a, x, y).mean() - black_a)\n",
    "    c_val = (singleColorArray(color, arr_c, xctrl, yctrl).mean() - black_c)\n",
    "    print(a_val, c_val)\n",
    "    print(np.log10(c_val/a_val))\n",
    "    return (np.log10(c_val/a_val), dilution)\n",
    "\n",
    "def c_intensity(dilution, color):\n",
    "    return _intensity(dilution, get_boundaries(dilution), color)[0]\n",
    "\n",
    "def intensity(dilution):\n",
    "    #FIXME: Improve performance\n",
    "    return c_intensity(dilution, None)"
   ]
  },
  {
   "cell_type": "code",
   "execution_count": 112,
   "metadata": {},
   "outputs": [
    {
     "name": "stdout",
     "output_type": "stream",
     "text": [
      "9.665840000000003 705.5105068226121\n",
      "1.8632638839485243\n",
      "69.08579999999995 721.6419111111111\n",
      "1.018932956974804\n",
      "195.70791999999994 487.132876\n",
      "0.3960390393158413\n",
      "386.2687111111111 487.4695777777778\n",
      "0.10105798677995263\n",
      "459.7021 497.5970666666667\n",
      "0.034401323837161955\n",
      "482.4048415584416 443.8991555555556\n",
      "-0.03612733900952826\n",
      "R: 0.9716751452636309, p 0.001192083615158403\n"
     ]
    },
    {
     "data": {
      "image/png": "[encoded data removed]",
      "text/plain": [
       "<Figure size 432x288 with 1 Axes>"
      ]
     },
     "metadata": {
      "needs_background": "light"
     },
     "output_type": "display_data"
    }
   ],
   "source": [
    "intensities = []\n",
    "concentrations = []\n",
    "\n",
    "for dil in dilutions:\n",
    "    intensities.append(intensity(dil))\n",
    "    concentrations.append(1/dil)\n",
    "\n",
    "plt.plot(concentrations[:], intensities[:])\n",
    "slope, intercept, r_value, p_value, std_err = linregress(concentrations[:], intensities[:])\n",
    "print(\"R: {}, p {}\".format(r_value, p_value))"
   ]
  },
  {
   "cell_type": "code",
   "execution_count": 111,
   "metadata": {},
   "outputs": [
    {
     "name": "stdout",
     "output_type": "stream",
     "text": [
      "R\n",
      "500\n",
      "6.453300000000013 719.9309161793371\n",
      "2.047508968994343\n",
      "750\n",
      "43.271433333333334 739.8858666666667\n",
      "1.2329634503765146\n",
      "1000\n",
      "172.63887999999997 492.75795200000005\n",
      "0.45549503169044236\n",
      "2000\n",
      "378.6216888888889 491.4339111111111\n",
      "0.11325963303776598\n",
      "4000\n",
      "465.1056 506.4026666666666\n",
      "0.03694441539875684\n",
      "8000\n",
      "491.68130909090905 453.2135111111111\n",
      "-0.035380850728433964\n",
      "R: 0.973580508948198, p 0.0010377639973813847 \n",
      "\n",
      "\n",
      "G\n",
      "500\n",
      "12.762410000000045 903.5759454191034\n",
      "1.8500319683367727\n",
      "750\n",
      "74.33795833333329 927.958311111111\n",
      "1.0963178366345017\n",
      "1000\n",
      "235.41675999999995 625.2911039999999\n",
      "0.42424487174024605\n",
      "2000\n",
      "482.1465511111111 627.619688888889\n",
      "0.11451749474937145\n",
      "4000\n",
      "581.3850124999999 638.5274133333332\n",
      "0.04071571526163183\n",
      "8000\n",
      "613.6639688311689 569.3034666666667\n",
      "-0.03258679613624372\n",
      "R: 0.975157611037748, p 0.0009180507647867746 \n",
      "\n",
      "\n",
      "B\n",
      "500\n",
      "6.685240000000022 294.95922027290453\n",
      "1.6446449734963486\n",
      "750\n",
      "84.39585 290.76515555555557\n",
      "0.5372212691533614\n",
      "1000\n",
      "139.35928 205.19134399999996\n",
      "0.16802314222073306\n",
      "2000\n",
      "202.16005333333328 203.20502222222217\n",
      "0.0022390938679257093\n",
      "4000\n",
      "210.932775 206.93077333333338\n",
      "-0.008318985423770792\n",
      "8000\n",
      "210.61011948051953 183.77617777777778\n",
      "-0.059190019787857796\n",
      "R: 0.9244801419601432, p 0.008339519161689537 \n",
      "\n",
      "\n"
     ]
    },
    {
     "data": {
      "image/png": "[encoded data removed]",
      "text/plain": [
       "<Figure size 432x288 with 1 Axes>"
      ]
     },
     "metadata": {
      "needs_background": "light"
     },
     "output_type": "display_data"
    }
   ],
   "source": [
    "for col in [\"R\",\"G\",\"B\"]:\n",
    "    print(col)\n",
    "    intensities = []\n",
    "    concentrations = []\n",
    "\n",
    "    for dil in dilutions:\n",
    "        print(dil)\n",
    "        intensities.append(c_intensity(dil, col))\n",
    "        concentrations.append(1/dil)\n",
    "    plt.plot(concentrations[:], intensities[:], color=col)\n",
    "    #FIXME: Before plotting convert to lowercase color letter\n",
    "    slope, intercept, r_value, p_value, std_err = linregress(concentrations[:], intensities[:])\n",
    "    print(\"R: {}, p {} \\n\\n\".format(r_value, p_value))"
   ]
  },
  {
   "cell_type": "code",
   "execution_count": null,
   "metadata": {},
   "outputs": [],
   "source": []
  }
 ],
 "metadata": {
  "kernelspec": {
   "display_name": "Python 3.7.3 64-bit ('base': conda)",
   "language": "python",
   "name": "python37364bitbasecondac955cbb0583048f697af610519768e7d"
  },
  "language_info": {
   "codemirror_mode": {
    "name": "ipython",
    "version": 3
   },
   "file_extension": ".py",
   "mimetype": "text/x-python",
   "name": "python",
   "nbconvert_exporter": "python",
   "pygments_lexer": "ipython3",
   "version": "3.7.3"
  }
 },
 "nbformat": 4,
 "nbformat_minor": 4
}
