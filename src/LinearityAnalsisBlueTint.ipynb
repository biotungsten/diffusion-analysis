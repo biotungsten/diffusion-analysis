{
 "cells": [
  {
   "cell_type": "code",
   "execution_count": 150,
   "metadata": {},
   "outputs": [],
   "source": [
    "import numpy as np\n",
    "import rawpy\n",
    "import matplotlib.pyplot as plt\n",
    "import csv\n",
    "from scipy.stats import linregress"
   ]
  },
  {
   "cell_type": "code",
   "execution_count": 142,
   "metadata": {},
   "outputs": [],
   "source": [
    "images = \"/Users/David_Sauer/Documents/Biophysik/diffusion-analysis/experiments/tinte-blau-april/pictures/\"\n",
    "areas = images + \"areas.csv\"\n",
    "bit_depth = 2**12\n",
    "dilutions = [500,750,1000,2000,4000,8000]\n",
    "#FIXME: Use relative path instead"
   ]
  },
  {
   "cell_type": "code",
   "execution_count": 143,
   "metadata": {},
   "outputs": [],
   "source": [
    "def read(dilution, x, y, xlen, ylen):\n",
    "    y = y + y%2\n",
    "    x = x + x%2\n",
    "    xlen = xlen + xlen%2\n",
    "    ylen = ylen + ylen%2\n",
    "    img_data = None\n",
    "    with rawpy.imread(images+str(dilution)+\".DNG\") as raw:\n",
    "        img_data = raw.raw_image.copy()\n",
    "        black = np.array(raw.black_level_per_channel).mean()\n",
    "    ret = img_data[y:y+ylen,x:x+xlen]\n",
    "    return (ret, black)\n",
    "\n",
    "def get_boundaries(dilution):\n",
    "    with open(areas) as csv_file:\n",
    "        csv_reader = csv.reader(csv_file, delimiter=',')\n",
    "        for row in csv_reader:\n",
    "            if row[0] == str(dilution):\n",
    "                if row[1] == \"NA\":\n",
    "                    raise RuntimeError(\"Areas not defined.\")\n",
    "                return [int(n) for n in row[1:]]\n",
    "            \n",
    "def _intensity(dilution, boundaries):\n",
    "    x, y, xlen, ylen, xctrl, yctrl, xlenctrl, ylenctrl = boundaries\n",
    "    arr_a, black_a = read(dilution, x, y, xlen, ylen)\n",
    "    arr_c, black_c = read(dilution, xctrl, yctrl, xlenctrl, ylenctrl)\n",
    "    a_val = bit_depth-(arr_a.mean()-black_a)\n",
    "    c_val = bit_depth-(arr_c.mean()-black_c)\n",
    "    return (np.log10(a_val/c_val), dilution)\n",
    "\n",
    "def intensity(dilution):\n",
    "    return _intensity(dilution, get_boundaries(dilution))[0]"
   ]
  },
  {
   "cell_type": "code",
   "execution_count": 147,
   "metadata": {},
   "outputs": [],
   "source": [
    "intensities = []\n",
    "concentrations = []\n",
    "\n",
    "for dil in dilutions:\n",
    "    intensities.append(intensity(dil))\n",
    "    concentrations.append(1/dil)"
   ]
  },
  {
   "cell_type": "code",
   "execution_count": 155,
   "metadata": {},
   "outputs": [
    {
     "name": "stdout",
     "output_type": "stream",
     "text": [
      "R: 0.9641043984418812, p 0.008119764169411918\n"
     ]
    },
    {
     "data": {
      "image/png": "[encoded data removed]",
      "text/plain": [
       "<Figure size 432x288 with 1 Axes>"
      ]
     },
     "metadata": {
      "needs_background": "light"
     },
     "output_type": "display_data"
    }
   ],
   "source": [
    "plt.plot(concentrations[1:], intensities[1:])\n",
    "slope, intercept, r_value, p_value, std_err = linregress(concentrations[1:], intensities[1:])\n",
    "print(\"R: {}, p {}\".format(r_value, p_value))"
   ]
  }
 ],
 "metadata": {
  "kernelspec": {
   "display_name": "Python 3.7.3 64-bit ('base': conda)",
   "language": "python",
   "name": "python37364bitbasecondac955cbb0583048f697af610519768e7d"
  },
  "language_info": {
   "codemirror_mode": {
    "name": "ipython",
    "version": 3
   },
   "file_extension": ".py",
   "mimetype": "text/x-python",
   "name": "python",
   "nbconvert_exporter": "python",
   "pygments_lexer": "ipython3",
   "version": "3.7.3"
  }
 },
 "nbformat": 4,
 "nbformat_minor": 4
}
