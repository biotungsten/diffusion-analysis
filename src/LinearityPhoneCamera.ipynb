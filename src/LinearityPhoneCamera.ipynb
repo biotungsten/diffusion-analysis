{
 "cells": [
  {
   "cell_type": "code",
   "execution_count": 92,
   "metadata": {},
   "outputs": [],
   "source": [
    "import numpy as np\n",
    "import os\n",
    "import matplotlib.pyplot as plt\n",
    "import cv2"
   ]
  },
  {
   "cell_type": "code",
   "execution_count": 74,
   "metadata": {},
   "outputs": [],
   "source": [
    "def string_conc(s):\n",
    "    if s == \"CTRL\":\n",
    "        return 0\n",
    "    return int(s)\n",
    "\n",
    "def r_string_conc(i):\n",
    "    if i == 0:\n",
    "        return \"CTRL\"\n",
    "    return str(i)\n",
    "\n",
    "PICTURE_PATH = \"/Users/David_Sauer/Documents/Biophysik/diffusion-analysis/pictures/\"\n",
    "CONCENTRATIONS = [string_conc(f) for f in os.listdir(PICTURE_PATH) if (os.path.isfile(os.path.join(PICTURE_PATH, f))==False)&(str(f) != '.DS_Store')]\n",
    "CONCENTRATIONS_N = {c: len(os.listdir(PICTURE_PATH+r_string_conc(c)))-1 for c in CONCENTRATIONS}"
   ]
  },
  {
   "cell_type": "code",
   "execution_count": 75,
   "metadata": {},
   "outputs": [],
   "source": [
    "def get_array_for_pic(concentration, number):\n",
    "    path = PICTURE_PATH + str(concentration) + \"/\" + str(number) + \"/\"\n",
    "    files = [os.path.join(path, f) for f in os.listdir(path) if (os.path.isfile(os.path.join(path, f)))&(str(f) != '.DS_Store')]\n",
    "    arrays = {(\"d\" if (\"copy\" in f) else \"c\"):cv2.imread(f, cv2.IMREAD_GRAYSCALE) for f in files}\n",
    "    return arrays\n",
    "\n",
    "def gen_full_dict():\n",
    "    array_dict = {}\n",
    "    for c in CONCENTRATIONS:\n",
    "        array_dict[r_string_conc(c)] = {}\n",
    "        for n in range(1,CONCENTRATIONS_N[c]+1):\n",
    "            array_dict[r_string_conc(c)][n] = get_array_for_pic(r_string_conc(c), n)\n",
    "    return array_dict"
   ]
  },
  {
   "cell_type": "code",
   "execution_count": 77,
   "metadata": {},
   "outputs": [],
   "source": [
    "pictures = gen_full_dict()"
   ]
  },
  {
   "cell_type": "code",
   "execution_count": 95,
   "metadata": {},
   "outputs": [],
   "source": [
    "def intensity(pics, conc):\n",
    "    ret = []\n",
    "    pics_conc = pics[conc]\n",
    "    for k in pics_conc.keys():\n",
    "        d = pics_conc[k][\"d\"].mean()\n",
    "        c = pics_conc[k][\"c\"].mean()\n",
    "        ret.append(np.log10(d/c))\n",
    "    return ret\n"
   ]
  },
  {
   "cell_type": "code",
   "execution_count": 102,
   "metadata": {},
   "outputs": [
    {
     "data": {
      "text/plain": [
       "[-0.0788708653581006, -0.0975140008289396, -0.09851253770972243]"
      ]
     },
     "execution_count": 102,
     "metadata": {},
     "output_type": "execute_result"
    }
   ],
   "source": [
    "intensity(pictures, \"128\")"
   ]
  },
  {
   "cell_type": "code",
   "execution_count": 105,
   "metadata": {},
   "outputs": [
    {
     "data": {
      "text/plain": [
       "{'c': array([[156, 155, 154, ..., 141, 141, 141],\n",
       "        [156, 155, 154, ..., 141, 141, 142],\n",
       "        [155, 155, 154, ..., 140, 140, 142],\n",
       "        ...,\n",
       "        [132, 131, 130, ..., 138, 139, 141],\n",
       "        [132, 131, 131, ..., 138, 139, 141],\n",
       "        [132, 132, 131, ..., 138, 138, 140]], dtype=uint8),\n",
       " 'd': array([[255, 255, 255, ..., 255, 255, 255],\n",
       "        [255, 255, 255, ..., 255, 255, 255],\n",
       "        [255, 255, 255, ..., 255, 255, 255],\n",
       "        ...,\n",
       "        [255, 255, 255, ..., 255, 255, 255],\n",
       "        [255, 255, 255, ..., 255, 255, 255],\n",
       "        [255, 255, 255, ..., 255, 255, 255]], dtype=uint8)}"
      ]
     },
     "execution_count": 105,
     "metadata": {},
     "output_type": "execute_result"
    }
   ],
   "source": [
    "get_array_for_pic(1,1)"
   ]
  },
  {
   "cell_type": "code",
   "execution_count": 104,
   "metadata": {},
   "outputs": [
    {
     "data": {
      "text/plain": [
       "NoneType"
      ]
     },
     "execution_count": 104,
     "metadata": {},
     "output_type": "execute_result"
    }
   ],
   "source": [
    "type(cv2.imread(\"/Users/David_Sauer/Desktop/Screenshot\\ 2020-03-28\\ at\\ 15.56.38.jpg\"))"
   ]
  },
  {
   "cell_type": "code",
   "execution_count": null,
   "metadata": {},
   "outputs": [],
   "source": []
  }
 ],
 "metadata": {
  "kernelspec": {
   "display_name": "Python 3.7.3 64-bit ('base': conda)",
   "language": "python",
   "name": "python37364bitbasecondac955cbb0583048f697af610519768e7d"
  },
  "language_info": {
   "codemirror_mode": {
    "name": "ipython",
    "version": 3
   },
   "file_extension": ".py",
   "mimetype": "text/x-python",
   "name": "python",
   "nbconvert_exporter": "python",
   "pygments_lexer": "ipython3",
   "version": "3.7.3"
  }
 },
 "nbformat": 4,
 "nbformat_minor": 4
}
