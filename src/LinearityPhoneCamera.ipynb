{
 "cells": [
  {
   "cell_type": "code",
   "execution_count": 73,
   "metadata": {},
   "outputs": [],
   "source": [
    "import numpy as np\n",
    "import os\n",
    "import matplotlib.pyplot as plt\n",
    "import cv2\n",
    "from scipy import stats\n",
    "import time\n",
    "import random"
   ]
  },
  {
   "cell_type": "code",
   "execution_count": 74,
   "metadata": {},
   "outputs": [],
   "source": [
    "def string_conc(s):\n",
    "    if s == \"CTRL\":\n",
    "        return 0\n",
    "    return int(s)\n",
    "\n",
    "def r_string_conc(i):\n",
    "    if i == 0:\n",
    "        return \"CTRL\"\n",
    "    return str(i)\n",
    "\n",
    "PICTURE_PATH = \"/Users/David_Sauer/Documents/Biophysik/diffusion-analysis/pictures/\"\n",
    "FIGURE_PATH = \"/Users/David_Sauer/Documents/Biophysik/diffusion-analysis/figures/\"\n",
    "CONCENTRATIONS = [string_conc(f) for f in os.listdir(PICTURE_PATH) if (os.path.isfile(os.path.join(PICTURE_PATH, f))==False)&(str(f) != '.DS_Store')]\n",
    "CONCENTRATIONS.sort()\n",
    "CONCENTRATIONS_N = {c: len(os.listdir(PICTURE_PATH+r_string_conc(c)))-1 for c in CONCENTRATIONS}"
   ]
  },
  {
   "cell_type": "code",
   "execution_count": 75,
   "metadata": {},
   "outputs": [],
   "source": [
    "def get_array_for_pic(concentration, number):\n",
    "    path = PICTURE_PATH + str(concentration) + \"/\" + str(number) + \"/\"\n",
    "    files = [os.path.join(path, f) for f in os.listdir(path) if (os.path.isfile(os.path.join(path, f)))&(str(f) != '.DS_Store')]\n",
    "    arrays = {(\"d\" if (\"copy\" in f) else \"c\"):cv2.bitwise_not(cv2.imread(f, cv2.IMREAD_GRAYSCALE)) for f in files}\n",
    "    return arrays\n",
    "\n",
    "def gen_full_dict():\n",
    "    array_dict = {}\n",
    "    for c in CONCENTRATIONS:\n",
    "        array_dict[r_string_conc(c)] = {}\n",
    "        for n in range(1,CONCENTRATIONS_N[c]+1):\n",
    "            array_dict[r_string_conc(c)][n] = get_array_for_pic(r_string_conc(c), n)\n",
    "    return array_dict"
   ]
  },
  {
   "cell_type": "code",
   "execution_count": 76,
   "metadata": {},
   "outputs": [],
   "source": [
    "pictures = gen_full_dict()"
   ]
  },
  {
   "cell_type": "code",
   "execution_count": 77,
   "metadata": {},
   "outputs": [],
   "source": [
    "def intensity(pics, conc):\n",
    "    ret = []\n",
    "    pics_conc = pics[conc]\n",
    "    for k in pics_conc.keys():\n",
    "        d = pics_conc[k][\"d\"].mean()\n",
    "        c = pics_conc[k][\"c\"].mean()\n",
    "        ret.append(np.log10(d/c))\n",
    "    return ret"
   ]
  },
  {
   "cell_type": "code",
   "execution_count": 80,
   "metadata": {},
   "outputs": [
    {
     "ename": "SyntaxError",
     "evalue": "invalid syntax (<ipython-input-80-04f378442b8b>, line 17)",
     "output_type": "error",
     "traceback": [
      "\u001b[0;36m  File \u001b[0;32m\"<ipython-input-80-04f378442b8b>\"\u001b[0;36m, line \u001b[0;32m17\u001b[0m\n\u001b[0;31m    del fig\u001b[0m\n\u001b[0m      ^\u001b[0m\n\u001b[0;31mSyntaxError\u001b[0m\u001b[0;31m:\u001b[0m invalid syntax\n"
     ]
    }
   ],
   "source": [
    "def plot_fit(v_1, v_2, log=True, description=True):\n",
    "    fig = plt.figure()\n",
    "    plt.plot(CONCENTRATIONS, [intensity(pictures,r_string_conc(n))[0] for n in CONCENTRATIONS], \"b+\")\n",
    "    plt.plot(CONCENTRATIONS, [intensity(pictures,r_string_conc(n))[1] for n in CONCENTRATIONS], \"b+\")\n",
    "    plt.plot(CONCENTRATIONS, [intensity(pictures,r_string_conc(n))[2] for n in CONCENTRATIONS], \"b+\")\n",
    "    plt.plot(CONCENTRATIONS, [np.array(intensity(pictures,r_string_conc(n))).mean() for n in CONCENTRATIONS], \"k-\")\n",
    "    slope, intercept, r_value, p_value, std_err = stats.linregress(CONCENTRATIONS[v_1:v_2], [np.array(intensity(pictures,r_string_conc(n))).mean() for n in CONCENTRATIONS[v_1:v_2]])\n",
    "    plt.plot(CONCENTRATIONS[v_1:v_2], [slope*n+intercept for n in CONCENTRATIONS[v_1:v_2]])\n",
    "    plt.xlabel(\"Dilution\")\n",
    "    plt.ylabel(\"Absorbance\")    \n",
    "    if log:\n",
    "        print(\"log\")\n",
    "        plt.xscale(\"log\")\n",
    "    if description:\n",
    "        print(\"Fit from 1:{} to 1:{} \\nR: {}, p: {}\".format(CONCENTRATIONS[v_1], CONCENTRATIONS[len(CONCENTRATIONS)+v_2], r_value, p_value))\n",
    "    fig.savefig(FIGURE_PATH + str(int(time.time())) + \"_\" + str(random.randint(0,100) + \".png\", dpi=500)\n",
    "    del fig"
   ]
  },
  {
   "cell_type": "code",
   "execution_count": 81,
   "metadata": {},
   "outputs": [
    {
     "name": "stdout",
     "output_type": "stream",
     "text": [
      "log\n",
      "Fit from 1:16 to 1:128 \n",
      "R: -0.994000974527466, p: 0.06976744600761466\n"
     ]
    },
    {
     "data": {
      "image/png": "[encoded data removed]",
      "text/plain": [
       "<Figure size 432x288 with 1 Axes>"
      ]
     },
     "metadata": {
      "needs_background": "light"
     },
     "output_type": "display_data"
    },
    {
     "data": {
      "image/png": "[encoded data removed]",
      "text/plain": [
       "<Figure size 432x288 with 1 Axes>"
      ]
     },
     "metadata": {
      "needs_background": "light"
     },
     "output_type": "display_data"
    }
   ],
   "source": [
    "plot_fit(5,-2)\n",
    "plt.show()\n",
    "plot_fit(5,-2,False, False)"
   ]
  },
  {
   "cell_type": "code",
   "execution_count": null,
   "metadata": {},
   "outputs": [],
   "source": []
  }
 ],
 "metadata": {
  "kernelspec": {
   "display_name": "Python 3.7.3 64-bit ('base': conda)",
   "language": "python",
   "name": "python37364bitbasecondac955cbb0583048f697af610519768e7d"
  },
  "language_info": {
   "codemirror_mode": {
    "name": "ipython",
    "version": 3
   },
   "file_extension": ".py",
   "mimetype": "text/x-python",
   "name": "python",
   "nbconvert_exporter": "python",
   "pygments_lexer": "ipython3",
   "version": "3.7.3"
  }
 },
 "nbformat": 4,
 "nbformat_minor": 4
}
