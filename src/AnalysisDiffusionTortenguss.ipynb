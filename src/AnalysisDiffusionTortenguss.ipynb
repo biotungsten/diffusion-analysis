{
 "cells": [
  {
   "cell_type": "markdown",
   "metadata": {},
   "source": [
    "# Analyse Tortenguss\n",
    "\n",
    "First you can find the imports and the picture paths. Currently absolute paths are used, so you **need to adjust this path** in order to get the code running. Furthermore picture specific properties such as the raw pattern are defined. They were read out manually. The showArray function can be used for debugging purposes."
   ]
  },
  {
   "cell_type": "code",
   "execution_count": 3,
   "metadata": {},
   "outputs": [],
   "source": [
    "import numpy as np\n",
    "import rawpy\n",
    "import matplotlib.pyplot as plt\n",
    "import csv\n",
    "import os\n",
    "from matplotlib import pyplot as plt\n",
    "from scipy.stats import linregress\n",
    "\n",
    "cwd = os.getcwd()\n",
    "images = os.path.dirname(cwd) + \"/experiments/tortenguss-diffusion/pictures/\"\n",
    "areas = images + \"areas.csv\"\n",
    "color_desc = {0: \"R\", 1: \"G\", 2: \"B\", 3: \"G\"}\n",
    "raw_pattern = [[1,0], [2,3]]\n",
    "\n",
    "def showArray(arr):\n",
    "    plt.imshow(arr, interpolation='nearest')\n",
    "    plt.show()"
   ]
  },
  {
   "cell_type": "markdown",
   "metadata": {},
   "source": [
    "Now we define a function, that gives us the boundaries for a certain image, as defined in the areas.csv file."
   ]
  },
  {
   "cell_type": "code",
   "execution_count": 104,
   "metadata": {},
   "outputs": [],
   "source": [
    "def boundaries(key):\n",
    "    csv_path = images + \"areas.csv\"\n",
    "    with open(csv_path) as csvfile:\n",
    "        csvreader = csv.reader(csvfile, delimiter = \";\")\n",
    "        for row in csvreader:\n",
    "            if row[1] == \"NA\":\n",
    "                raise RuntimeError(\"Areas not defined.\")\n",
    "            if row[0] == key:\n",
    "                return (int(row[1]), int(row[2]), int(row[3]), int(row[4]))\n"
   ]
  },
  {
   "cell_type": "markdown",
   "metadata": {},
   "source": [
    "The read function reads in an image and returns the black value and an array containing the pixel values of the image."
   ]
  },
  {
   "cell_type": "code",
   "execution_count": 105,
   "metadata": {},
   "outputs": [],
   "source": [
    "def read(key):\n",
    "    x, y, xlen, ylen = boundaries(key)\n",
    "    y = y + y%2\n",
    "    x = x + x%2\n",
    "    xlen = xlen + xlen%2\n",
    "    ylen = ylen + ylen%2\n",
    "    img_data = None\n",
    "    with rawpy.imread(images+\"1.dng\") as raw:\n",
    "        img_data = raw.raw_image.copy()\n",
    "        black = np.array(raw.black_level_per_channel).mean()\n",
    "    ret = img_data[y:y+ylen,x:x+xlen]\n",
    "    return (ret, black)"
   ]
  },
  {
   "cell_type": "markdown",
   "metadata": {},
   "source": [
    "The intensity function gives us the intensity depending on two arrays and their black values, as well as a colour value. The intensities function, does this but accepts instead of arrays and black values, keys, as found in areas.csv and a reader function. This argument can be used for rasterization, as explained below."
   ]
  },
  {
   "cell_type": "code",
   "execution_count": 106,
   "metadata": {},
   "outputs": [],
   "source": [
    "def intensities(key, ctrl_key, col=None, reader_func=read):\n",
    "    ret, black = reader_func(key)\n",
    "    retctrl, blackctrl = read(ctrl_key)\n",
    "    x, y, xlen, ylen = boundaries(key)\n",
    "    if ret.shape  == (ylen, xlen):\n",
    "        return intensity(ret, retctrl, black, blackctrl, col)\n",
    "    else:\n",
    "        return [intensity(arr, retctrl, black, blackctrl, col) for arr in ret]\n",
    "\n",
    "def intensity(arr, arr_ctrl, black, black_ctrl, col):\n",
    "    val = (singleColorArray(col, arr).mean()-black)\n",
    "    c_val = (singleColorArray(col, arr_ctrl).mean()-black_ctrl)\n",
    "    return np.log10(c_val/val)"
   ]
  },
  {
   "cell_type": "markdown",
   "metadata": {},
   "source": [
    "The single color array function, returns from a given array only those pixels, that are of the provided color. They are put into a single list."
   ]
  },
  {
   "cell_type": "code",
   "execution_count": 107,
   "metadata": {},
   "outputs": [],
   "source": [
    "def singleColorArray(target_color, arr):\n",
    "    if target_color == None:\n",
    "        return arr\n",
    "    new_arr = []\n",
    "    for index_r, row in enumerate(arr):\n",
    "        for index_c, col in enumerate(row):\n",
    "            r_ind = index_r\n",
    "            c_ind = index_c\n",
    "            color = None \n",
    "            if r_ind % 2 == 0:\n",
    "                if c_ind % 2 == 0:\n",
    "                    color = 1\n",
    "                else:\n",
    "                    color = 0\n",
    "            else:\n",
    "                if c_ind % 2 == 0:\n",
    "                    color = 2\n",
    "                else:\n",
    "                    color = 3\n",
    "            if color_desc[color] == target_color:\n",
    "                new_arr.append(col)\n",
    "            else:\n",
    "                pass\n",
    "    return np.array(new_arr)"
   ]
  },
  {
   "cell_type": "markdown",
   "metadata": {},
   "source": [
    "The rasterization functions raster an image into rows of a certain height, they then return an array containing subarrays of the original array, but with the provided height. The defined convenience function make the usage with the intensities function easier and allow for easy plotting."
   ]
  },
  {
   "cell_type": "code",
   "execution_count": null,
   "metadata": {},
   "outputs": [],
   "source": [
    "def rasterizeImage(key, row_height=None, x_coords=False):\n",
    "    rows = []\n",
    "    arr, black = read(key)\n",
    "    x, y, xlen, ylen = boundaries(key)\n",
    "    if row_height == None:\n",
    "        row_height = ylen\n",
    "    ylen = ylen - ylen%row_height #this guarantees, that also the last row has row_height\n",
    "    row_no = int(ylen/row_height)\n",
    "    if x_coords:\n",
    "        return [n for n in range(row_no)][:]\n",
    "    rows = [arr[n*row_height:(n+1)*row_height] for n in range(row_no)]\n",
    "    return (np.array(rows), black)\n",
    "\n",
    "def rasterizeImageWrapperGenerator(row_height=None):\n",
    "    def _rasterize(_key):\n",
    "        return rasterizeImage(_key, row_height=row_height)\n",
    "    return _rasterize\n",
    "\n",
    "def rasterXCoords(key, row_height=None):\n",
    "    return rasterizeImage(key, row_height=row_height, x_coords=True)\n",
    "\n",
    "raster = rasterizeImageWrapperGenerator #definition for ease of use"
   ]
  },
  {
   "cell_type": "markdown",
   "metadata": {},
   "source": [
    "And now we analyze the data."
   ]
  },
  {
   "cell_type": "code",
   "execution_count": 108,
   "metadata": {},
   "outputs": [
    {
     "data": {
      "text/plain": [
       "[<matplotlib.lines.Line2D at 0x11f7aaeb8>]"
      ]
     },
     "execution_count": 108,
     "metadata": {},
     "output_type": "execute_result"
    },
    {
     "data": {
      "image/png": "[encoded data removed]",
      "text/plain": [
       "<Figure size 432x288 with 1 Axes>"
      ]
     },
     "metadata": {
      "needs_background": "light"
     },
     "output_type": "display_data"
    }
   ],
   "source": [
    "plt.plot(rasterXCoords(\"1-tint\", 2),intensities(\"1-tint\", \"1-ctrl\", reader_func=raster(2)), color=\"k\")\n",
    "plt.plot(rasterXCoords(\"1-tint\", 2),intensities(\"1-tint\", \"1-ctrl\", col=\"B\", reader_func=raster(2)), color=\"b\")\n",
    "plt.plot(rasterXCoords(\"1-tint\", 2),intensities(\"1-tint\", \"1-ctrl\", col=\"R\", reader_func=raster(2)), color=\"r\")\n",
    "plt.plot(rasterXCoords(\"1-tint\", 2),intensities(\"1-tint\", \"1-ctrl\", col=\"G\", reader_func=raster(2)), color=\"g\")"
   ]
  },
  {
   "cell_type": "markdown",
   "metadata": {},
   "source": [
    "Nun die objektorientierte Version."
   ]
  },
  {
   "cell_type": "code",
   "execution_count": null,
   "metadata": {},
   "outputs": [],
   "source": [
    "class DiffusionTimeSeries:\n",
    "    pass\n",
    "\n",
    "class DiffusionMeasurement:\n",
    "    \n",
    "    @staticmethod\n",
    "    def intensity(pixels, constant_offset):\n",
    "        return pixels.mean() - constant_offset\n",
    "    \n",
    "    @staticmethod\n",
    "    def absorbance(val, ctrl):\n",
    "        np.log10(ctrl/val)\n",
    "    \n",
    "    @staticmethod\n",
    "    def single_color_intensity(pixels, constant_offset, colour_key, camera):\n",
    "        single_colour_array = DiffusionMeasurement.colour_filtered_array(pixels, colour_key, camera)\n",
    "        return DiffusionMeasurement.intensity(single_colour_array, constant_offset)\n",
    "    \n",
    "    @staticmethod\n",
    "    def colour_filtered_array(array, colour, camera):\n",
    "        new_list = []    \n",
    "        for r_ind, row in enumerate(array):\n",
    "            for c_ind, col in enumerate(row):\n",
    "                if r_ind % 2 == 0:\n",
    "                    if c_ind % 2 == camera.pattern[0][0]:\n",
    "                        local_colour = camera.pattern[0][0]\n",
    "                    else:\n",
    "                        local_colour = camera.pattern[0][1]\n",
    "                else:\n",
    "                    if c_ind % 2 == camera.pattern[1][0]:\n",
    "                        local_colour = camera.pattern[1][0]\n",
    "                    else:\n",
    "                        local_colour = camera.pattern[1][1]\n",
    "                if camera.colors[local_colour] == colour:\n",
    "                    new_list.append(col)\n",
    "        return np.array(new_list)\n",
    "    \n",
    "    def __init__(self, path, control_key, boundaries_file, camera, main_key, complete_main_boundaries_used = False):\n",
    "        self.camera = camera\n",
    "        \n",
    "        with rawpy.imread(path) as raw_file:\n",
    "            self.pixels = raw_file.raw_image.copy()\n",
    "            self.black = np.array(raw_file.black_level_per_channel.mean).mean()\n",
    "            \n",
    "        with open(boundaries_file) as csv_file:\n",
    "            csv_reader = csv.reader(csv_file, delimiter = \";\")\n",
    "            for row in csv_reader:\n",
    "                if row[0] == control_key:\n",
    "                    self.control_boundaries = Boundary(int(row[1]), int(row[2]), int(row[3]), int(row[4]))\n",
    "                if row[0] == main_key:\n",
    "                    if main_boundaries_used:\n",
    "                        self.main_boundaries = Boundary(int(row[1]), int(row[2]), int(row[3]), int(row[4]))\n",
    "                    else:\n",
    "                        self.main_boundaries = XBoundary(int(row[1]))\n",
    "        \n",
    "        if !main_boundaries_used:\n",
    "            # initialize boundaries without main\n",
    "            \n",
    "        #cut out main pixels\n",
    "        #calculate intensity of control\n",
    "        #add rasterization support\n",
    "        \n",
    "\n",
    "        \n",
    "            \n",
    "            \n",
    "            \n",
    "\n",
    "class Camera:\n",
    "    ios = Camera([[0,1], [3,2]], {0: \"R\", 1: \"G\", 2: \"B\", 3: \"G\"})\n",
    "    android = Camera([[1,0], [2,3]] ,{0: \"R\", 1: \"G\", 2: \"B\", 3: \"G\"})\n",
    "    \n",
    "    def __init__(self, raw_pattern, color_desc):\n",
    "        self.pattern = raw_pattern\n",
    "        self.colors = color_desc\n",
    "        \n",
    "class Boundary:\n",
    "    \n",
    "    def __init__(x, y, xlen, ylen):\n",
    "        self.x = x - x%2\n",
    "        self.y = y - y%2\n",
    "        self.xlen = xlen - xlen%2\n",
    "        self.ylen = ylen - ylen%2\n",
    "        \n",
    "class XBoundary(Boundary):\n",
    "    \n",
    "    def __init__(x):\n",
    "        self.x = x"
   ]
  }
 ],
 "metadata": {
  "kernelspec": {
   "display_name": "Python 3.7.3 64-bit ('base': conda)",
   "language": "python",
   "name": "python37364bitbasecondac955cbb0583048f697af610519768e7d"
  },
  "language_info": {
   "codemirror_mode": {
    "name": "ipython",
    "version": 3
   },
   "file_extension": ".py",
   "mimetype": "text/x-python",
   "name": "python",
   "nbconvert_exporter": "python",
   "pygments_lexer": "ipython3",
   "version": "3.7.3"
  }
 },
 "nbformat": 4,
 "nbformat_minor": 4
}
